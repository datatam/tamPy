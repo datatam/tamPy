{
 "cells": [
  {
   "cell_type": "markdown",
   "metadata": {},
   "source": [
    "## Part B: Saving, with a raise\n",
    "In Part A, we unrealistically assumed that your salary didn’t change.  But you are an MIT graduate, and  clearly you are going to be worth more to your company over time! So we are going to build on your  solution to Part A by factoring in a raise every six months.    In <b>ps1b.py</b>, copy your solution to Part A (as we are going to reuse much of that machinery).  Modify  your program to include the following  \n",
    "1. Have the user input a semi-annual salary raise <b>semi_annual_raise</b> (as a decimal percentage)  \n",
    "2. After the 6th month, increase your salary by that percentage.  Do the same after the 12th month, the 18th  month, and so on.    \n",
    "Write a program to calculate how many months it will take you save up enough money for a down  payment.  Like before, assume that your investments earn a return of <b>r</b> = 0.04 (or 4%) and the  required down payment percentage is 0.25 (or 25%).  \n",
    "\n",
    "Have the user enter the following variables:  \n",
    "1. The starting annual salary (annual_salary)\n",
    "2. The percentage of salary to be saved (portion_saved)  \n",
    "3. The cost of your dream home (total_cost)  \n",
    "4. The semi­annual salary raise (semi_annual_raise) \n"
   ]
  },
  {
   "cell_type": "code",
   "execution_count": 70,
   "metadata": {},
   "outputs": [
    {
     "name": "stdout",
     "output_type": "stream",
     "text": [
      "Enter your annual salary: 75000\n",
      "Enter the percent of your salary to save, as a decimal: .05\n",
      "Enter the cost of your dream home: 1500000\n",
      "Enter the semi-annual raise, as a decimal: .05\n"
     ]
    }
   ],
   "source": [
    "annual_salary = float(input(\"Enter your annual salary: \"))\n",
    "portion_saved = float(input(\"Enter the percent of your salary to save, as a decimal: \"))\n",
    "total_cost = float(input(\"Enter the cost of your dream home: \"))\n",
    "semi_annual_raise = float(input(\"Enter the semi-annual raise, as a decimal: \"))"
   ]
  },
  {
   "cell_type": "code",
   "execution_count": 71,
   "metadata": {},
   "outputs": [],
   "source": [
    "portion_down_payment = float(0.25*total_cost)\n",
    "r = 0.04"
   ]
  },
  {
   "cell_type": "markdown",
   "metadata": {},
   "source": [
    "print(portion_down_payment)\n",
    "print(monthly_salary)\n",
    "print(r)\n",
    "print(current_savings)\n",
    "print(portion_saved)"
   ]
  },
  {
   "cell_type": "code",
   "execution_count": 72,
   "metadata": {},
   "outputs": [
    {
     "name": "stdout",
     "output_type": "stream",
     "text": [
      "Number of months: 261\n",
      "Number of months: 1\n"
     ]
    }
   ],
   "source": [
    "monthly_salary = annual_salary/12\n",
    "current_savings = float(0)\n",
    "i = 0\n",
    "while current_savings < portion_down_payment:\n",
    "    current_savings = current_savings + current_savings*r/12 + monthly_salary*portion_saved\n",
    "    if i==0:\n",
    "        monthly_salary = monthly_salary\n",
    "    elif i%6==0:\n",
    "        monthly_salary = monthly_salary + monthly_salary*semi_annual_raise\n",
    "    i = i+1\n",
    "print(\"Number of months:\", i)\n",
    "print(\"Number of months:\", s)"
   ]
  },
  {
   "cell_type": "code",
   "execution_count": null,
   "metadata": {},
   "outputs": [],
   "source": []
  }
 ],
 "metadata": {
  "kernelspec": {
   "display_name": "Python 3",
   "language": "python",
   "name": "python3"
  },
  "language_info": {
   "codemirror_mode": {
    "name": "ipython",
    "version": 3
   },
   "file_extension": ".py",
   "mimetype": "text/x-python",
   "name": "python",
   "nbconvert_exporter": "python",
   "pygments_lexer": "ipython3",
   "version": "3.7.3"
  }
 },
 "nbformat": 4,
 "nbformat_minor": 2
}
