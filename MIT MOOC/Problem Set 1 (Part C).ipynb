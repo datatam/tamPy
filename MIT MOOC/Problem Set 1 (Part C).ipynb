{
 "cells": [
  {
   "cell_type": "markdown",
   "metadata": {},
   "source": [
    "## Part C: Finding the right amount to save away\n",
    "In Part B, you had a chance to explore how both the percentage of your salary that you save each month  and your annual raise affect how long it takes you to save for a down payment.  This is nice, but  suppose you want to set a particular goal, e.g. to be able to afford the down payment in three years.  How much should you save each month to achieve this?  In this problem, you are going to write a  program to answer that question.  \n",
    "\n",
    "To simplify things, assume:  \n",
    "1. Your semi-annual raise is .07 (7%)  \n",
    "2. Your investments have an annual return of 0.04 (4%)   \n",
    "3. The down payment is 0.25 (25%) of the cost of the house  \n",
    "4. The cost of the house that you are saving for is $1M. \n",
    "\n",
    "You are now going to try to find the best rate of savings to achieve a down payment on a 1 Million USD house in  36 months. Since hitting this exactly is a challenge, we simply want your savings to be within $100 of  the required down payment.\n",
    "In <b>ps1c.py</b>, write a program to calculate the best savings rate, as a function of your starting salary.  You should use <b>bisection search</b> to help you do this efficiently. You should keep track of the number of  steps it takes your bisections search to finish. You should be able to reuse some of the code you wrote  for part B in this problem.     Because we are searching for a value that is in principle a float, we are going to limit ourselves to two  decimals of accuracy (i.e., we may want to save at 7.04% -- or 0.0704 in decimal – but we are not  going to worry about the difference between 7.041% and 7.039%).  This means we can search for an  <b>integer</b> between 0 and 10000 (using integer division), and then convert it to a decimal percentage  (using float division) to use when we are calculating the <b>current_savings</b> after 36 months. By using  this range, there are only a finite number of numbers that we are searching over, as opposed to the  infinite number of decimals between 0 and 1. This range will help prevent infinite loops. The reason we  use 0 to 10000 is to account for two additional decimal places in the range 0% to 100%. Your code  should print out a decimal (e.g. 0.0704 for 7.04%).    Try different inputs for your starting salary, and see how the percentage you need to save changes to  reach your desired down payment.  Also keep in mind it may not be possible for to save a down  payment in a year and a half for some salaries. In this case your function should notify the user that it  is not possible to save for the down payment in 36 months with a print statement. <b>Please make your  program print results in the format shown in the test cases below.</b>\n",
    "\n",
    "<b>Note: There are multiple right ways to implement bisection search/number of steps so your  results may not perfectly match those of the test case. </b>\n",
    "\n",
    "\n",
    "\n"
   ]
  },
  {
   "cell_type": "code",
   "execution_count": 70,
   "metadata": {},
   "outputs": [
    {
     "name": "stdout",
     "output_type": "stream",
     "text": [
      "Enter your annual salary: 75000\n",
      "Enter the percent of your salary to save, as a decimal: .05\n",
      "Enter the cost of your dream home: 1500000\n",
      "Enter the semi-annual raise, as a decimal: .05\n"
     ]
    }
   ],
   "source": [
    "annual_salary = float(input(\"Enter your annual salary: \"))\n",
    "portion_saved = float(input(\"Enter the percent of your salary to save, as a decimal: \"))"
   ]
  },
  {
   "cell_type": "code",
   "execution_count": 71,
   "metadata": {},
   "outputs": [],
   "source": [
    "total_cost = float(\"1000000\") #cost of house\n",
    "portion_down_payment = float(0.25*total_cost)  #downpayment for this house\n",
    "semi_annual_raise = float(\"0.07\") #7.00%\n",
    "r = 0.04 #rate of return"
   ]
  },
  {
   "cell_type": "markdown",
   "metadata": {},
   "source": [
    "print(portion_down_payment)\n",
    "print(monthly_salary)\n",
    "print(r)\n",
    "print(current_savings)\n",
    "print(portion_saved)"
   ]
  },
  {
   "cell_type": "code",
   "execution_count": 72,
   "metadata": {},
   "outputs": [
    {
     "name": "stdout",
     "output_type": "stream",
     "text": [
      "Number of months: 261\n",
      "Number of months: 1\n"
     ]
    }
   ],
   "source": [
    "monthly_salary = annual_salary/12\n",
    "current_savings = float(0)\n",
    "i = 0\n",
    "while current_savings < portion_down_payment:\n",
    "    current_savings = current_savings + current_savings*r/12 + monthly_salary*portion_saved\n",
    "    if i==0:\n",
    "        monthly_salary = monthly_salary\n",
    "    elif i%6==0:\n",
    "        monthly_salary = monthly_salary + monthly_salary*semi_annual_raise\n",
    "    i = i+1\n",
    "print(\"Number of months:\", i)\n",
    "print(\"Number of months:\", s)"
   ]
  },
  {
   "cell_type": "code",
   "execution_count": 1,
   "metadata": {},
   "outputs": [],
   "source": [
    "tam=float(\"100.012\")"
   ]
  },
  {
   "cell_type": "code",
   "execution_count": 2,
   "metadata": {},
   "outputs": [
    {
     "data": {
      "text/plain": [
       "100.012"
      ]
     },
     "execution_count": 2,
     "metadata": {},
     "output_type": "execute_result"
    }
   ],
   "source": [
    "tam"
   ]
  },
  {
   "cell_type": "code",
   "execution_count": null,
   "metadata": {},
   "outputs": [],
   "source": []
  }
 ],
 "metadata": {
  "kernelspec": {
   "display_name": "Python 3",
   "language": "python",
   "name": "python3"
  },
  "language_info": {
   "codemirror_mode": {
    "name": "ipython",
    "version": 3
   },
   "file_extension": ".py",
   "mimetype": "text/x-python",
   "name": "python",
   "nbconvert_exporter": "python",
   "pygments_lexer": "ipython3",
   "version": "3.7.3"
  }
 },
 "nbformat": 4,
 "nbformat_minor": 2
}
