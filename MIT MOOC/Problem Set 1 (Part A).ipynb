{
 "cells": [
  {
   "cell_type": "markdown",
   "metadata": {},
   "source": [
    "## Part A: House Hunting \n",
    "You have graduated from MIT and now have a great job! You move to the San Francisco Bay Area and  decide that you want to start saving to buy a house.  As housing prices are very high in the Bay Area,  you realize you are going to have to save for several years before you can afford to make the down  payment on a house. In Part A, we are going to determine how long it will take you to save enough  money to make the down payment given the following assumptions:    \n",
    "1. Call the cost of your dream home <b>total_cost</b>.  \n",
    "2. Call the portion of the cost needed for a down payment <b>portion_down_payment</b>. For  simplicity, assume that portion_down_payment = 0.25 (25%).  \n",
    "3. Call the amount that you have saved thus far <b>current_savings</b>. You start with a current  savings of $0.  \n",
    "4. Assume that you invest your current savings wisely, with an annual return of <b>r</b> (in other words,  at the end of each month, you receive an additional <b>current_savings *r/12</b> funds to put into  your savings – the 12 is because <b>r</b> is an annual rate). Assume that your investments earn a  return of r = 0.04 (4%).  \n",
    "5. Assume your annual salary is <b>annual_salary</b>.  \n",
    "6. Assume you are going to dedicate a certain amount of your salary each month to saving for  the down payment. Call that <b>portion_saved</b>. This variable should be in decimal form (i.e. 0.1  for 10%).  \n",
    "7. At the end of each month, your savings will be increased by the return on your investment,  plus a percentage of your <b>monthly salary</b> (annual salary / 12).    Write a program to calculate how many months it will take you to save up enough money for a down  payment. You will want your main variables to be floats, so you should cast user inputs to floats.   \n",
    "\n",
    "\n",
    "Your program should ask the user to enter the following variables:  \n",
    "1. The starting annual salary (annual_salary)  \n",
    "2. The portion of salary to be saved (portion_saved)  \n",
    "3. The cost of your dream home (total_cost)\n"
   ]
  },
  {
   "cell_type": "code",
   "execution_count": 91,
   "metadata": {},
   "outputs": [
    {
     "name": "stdout",
     "output_type": "stream",
     "text": [
      "Enter your annual salary: 80000\n",
      "Enter the percent of your salary to save, as a decimal: .15\n",
      "Enter the cost of your dream home: 500000\n"
     ]
    }
   ],
   "source": [
    "annual_salary = float(input(\"Enter your annual salary: \"))\n",
    "portion_saved = float(input(\"Enter the percent of your salary to save, as a decimal: \"))\n",
    "total_cost = float(input(\"Enter the cost of your dream home: \"))"
   ]
  },
  {
   "cell_type": "code",
   "execution_count": 92,
   "metadata": {},
   "outputs": [],
   "source": [
    "portion_down_payment = float(0.25*total_cost)\n",
    "monthly_salary = annual_salary/12\n",
    "r = 0.04"
   ]
  },
  {
   "cell_type": "markdown",
   "metadata": {},
   "source": [
    "print(portion_down_payment)\n",
    "print(monthly_salary)\n",
    "print(r)\n",
    "print(current_savings)\n",
    "print(portion_saved)"
   ]
  },
  {
   "cell_type": "code",
   "execution_count": 94,
   "metadata": {},
   "outputs": [
    {
     "name": "stdout",
     "output_type": "stream",
     "text": [
      "Number of months: 105\n"
     ]
    }
   ],
   "source": [
    "current_savings = float(0)\n",
    "i = 0\n",
    "while current_savings < portion_down_payment:\n",
    "    current_savings = current_savings + current_savings*r/12 + monthly_salary*portion_saved\n",
    "    i = i+1\n",
    "print(\"Number of months:\", i)"
   ]
  }
 ],
 "metadata": {
  "kernelspec": {
   "display_name": "Python 3",
   "language": "python",
   "name": "python3"
  },
  "language_info": {
   "codemirror_mode": {
    "name": "ipython",
    "version": 3
   },
   "file_extension": ".py",
   "mimetype": "text/x-python",
   "name": "python",
   "nbconvert_exporter": "python",
   "pygments_lexer": "ipython3",
   "version": "3.7.3"
  }
 },
 "nbformat": 4,
 "nbformat_minor": 2
}
